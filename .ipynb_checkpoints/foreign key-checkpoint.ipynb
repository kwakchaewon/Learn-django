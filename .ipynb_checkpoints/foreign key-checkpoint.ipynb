{
 "cells": [
  {
   "cell_type": "code",
   "execution_count": 1,
   "id": "88b2a161",
   "metadata": {},
   "outputs": [],
   "source": [
    "import os\n",
    "os.environ['DJANGO_SETTINGS_MODULE'] = 'myproject.settings'\n",
    "os.environ['DJANGO_ALLOW_ASYNC_UNSAFE']='true'\n",
    "\n",
    "import django\n",
    "django.setup()"
   ]
  },
  {
   "cell_type": "code",
   "execution_count": 26,
   "id": "53dc609c",
   "metadata": {},
   "outputs": [],
   "source": [
    "from instagram.models import Post, Comment, Tag\n",
    "from accounts.models import Profile"
   ]
  },
  {
   "cell_type": "code",
   "execution_count": null,
   "id": "875e096d",
   "metadata": {},
   "outputs": [],
   "source": [
    "# 1. 일대다 관계 ForeignKey"
   ]
  },
  {
   "cell_type": "code",
   "execution_count": 17,
   "id": "946be868",
   "metadata": {},
   "outputs": [
    {
     "data": {
      "text/plain": [
       "<QuerySet [<Comment: Comment object (1)>]>"
      ]
     },
     "execution_count": 17,
     "metadata": {},
     "output_type": "execute_result"
    }
   ],
   "source": [
    "# 외래키를 사용한 조회\n",
    "Comment.objects.filter(post_id=1)"
   ]
  },
  {
   "cell_type": "code",
   "execution_count": 10,
   "id": "33a87a29",
   "metadata": {},
   "outputs": [
    {
     "data": {
      "text/plain": [
       "<QuerySet [<Comment: Comment object (1)>]>"
      ]
     },
     "execution_count": 10,
     "metadata": {},
     "output_type": "execute_result"
    }
   ],
   "source": [
    "Comment.objects.filter(post__id=1)"
   ]
  },
  {
   "cell_type": "code",
   "execution_count": 16,
   "id": "d894c257",
   "metadata": {},
   "outputs": [
    {
     "data": {
      "text/plain": [
       "<QuerySet [<Comment: Comment object (1)>]>"
      ]
     },
     "execution_count": 16,
     "metadata": {},
     "output_type": "execute_result"
    }
   ],
   "source": [
    "post = Post.objects.get(id=1)\n",
    "Comment.objects.filter(post=post)"
   ]
  },
  {
   "cell_type": "code",
   "execution_count": 18,
   "id": "3f5308fb",
   "metadata": {},
   "outputs": [
    {
     "data": {
      "text/plain": [
       "<QuerySet [<Comment: Comment object (1)>]>"
      ]
     },
     "execution_count": 18,
     "metadata": {},
     "output_type": "execute_result"
    }
   ],
   "source": [
    "post.comment_set.all()"
   ]
  },
  {
   "cell_type": "code",
   "execution_count": null,
   "id": "340a4e07",
   "metadata": {},
   "outputs": [],
   "source": []
  },
  {
   "cell_type": "code",
   "execution_count": 19,
   "id": "d19a4333",
   "metadata": {},
   "outputs": [],
   "source": [
    "# 2. 일대일 관계  OneToOneField"
   ]
  },
  {
   "cell_type": "code",
   "execution_count": 21,
   "id": "9603f7a4",
   "metadata": {},
   "outputs": [
    {
     "data": {
      "text/plain": [
       "<User: ksh03003>"
      ]
     },
     "execution_count": 21,
     "metadata": {},
     "output_type": "execute_result"
    }
   ],
   "source": [
    "# 외래키를 사용한 조회\n",
    "profile = Profile.objects.first()\n",
    "profile.user"
   ]
  },
  {
   "cell_type": "code",
   "execution_count": 25,
   "id": "a83474b5",
   "metadata": {},
   "outputs": [
    {
     "data": {
      "text/plain": [
       "<Profile: Profile object (1)>"
      ]
     },
     "execution_count": 25,
     "metadata": {},
     "output_type": "execute_result"
    }
   ],
   "source": [
    "from django.contrib.auth import get_user_model\n",
    "User = get_user_model() # 모든 user 가져오기\n",
    "user= User.objects.first()\n",
    "user.profile"
   ]
  },
  {
   "cell_type": "code",
   "execution_count": 30,
   "id": "33972f4f",
   "metadata": {},
   "outputs": [
    {
     "data": {
      "text/plain": [
       "<QuerySet []>"
      ]
     },
     "execution_count": 30,
     "metadata": {},
     "output_type": "execute_result"
    }
   ],
   "source": [
    "tag = Tag.objects.first()\n",
    "post.tag_set.all()"
   ]
  },
  {
   "cell_type": "code",
   "execution_count": null,
   "id": "fc4c0653",
   "metadata": {},
   "outputs": [],
   "source": [
    "# tag 삭제\n",
    "# tag_qs = Tag.objects.get(name='장고')\n",
    "# post.tag_set.remove(tag)"
   ]
  },
  {
   "cell_type": "code",
   "execution_count": null,
   "id": "7e199d67",
   "metadata": {},
   "outputs": [],
   "source": [
    "# unpack 후 모든 tag 추가\n",
    "# tag_qs = Tag.objects.all()\n",
    "# post.tag_seta.add(*tag_qs) "
   ]
  },
  {
   "cell_type": "code",
   "execution_count": null,
   "id": "a921ccf4",
   "metadata": {},
   "outputs": [],
   "source": []
  }
 ],
 "metadata": {
  "kernelspec": {
   "display_name": "Python 3 (ipykernel)",
   "language": "python",
   "name": "python3"
  },
  "language_info": {
   "codemirror_mode": {
    "name": "ipython",
    "version": 3
   },
   "file_extension": ".py",
   "mimetype": "text/x-python",
   "name": "python",
   "nbconvert_exporter": "python",
   "pygments_lexer": "ipython3",
   "version": "3.11.3"
  }
 },
 "nbformat": 4,
 "nbformat_minor": 5
}
