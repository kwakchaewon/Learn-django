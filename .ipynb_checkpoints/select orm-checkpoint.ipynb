{
 "cells": [
  {
   "cell_type": "code",
   "execution_count": 1,
   "id": "539a9bee",
   "metadata": {},
   "outputs": [],
   "source": [
    "import os\n",
    "os.environ['DJANGO_SETTINGS_MODULE'] = 'myproject.settings'\n",
    "os.environ['DJANGO_ALLOW_ASYNC_UNSAFE']='true'\n",
    "\n",
    "import django\n",
    "django.setup()"
   ]
  },
  {
   "cell_type": "code",
   "execution_count": 9,
   "id": "4b10083d",
   "metadata": {},
   "outputs": [],
   "source": [
    "from instagram.models import Post\n",
    "# from blog1.models import Post"
   ]
  },
  {
   "cell_type": "code",
   "execution_count": 19,
   "id": "e062924b",
   "metadata": {},
   "outputs": [
    {
     "name": "stdout",
     "output_type": "stream",
     "text": [
      "SELECT \"instagram_post\".\"id\", \"instagram_post\".\"message\", \"instagram_post\".\"photo\", \"instagram_post\".\"created_at\", \"instagram_post\".\"updated_at\", \"instagram_post\".\"is_public\" FROM \"instagram_post\"\n"
     ]
    },
    {
     "data": {
      "text/plain": [
       "<QuerySet [<Post: Post object (1)>, <Post: Post object (2)>, <Post: Post object (3)>, <Post: Post object (4)>, <Post: Post object (5)>, <Post: Post object (6)>, <Post: Post object (7)>, <Post: Post object (8)>, <Post: Post object (9)>, <Post: Post object (10)>, <Post: Post object (11)>, <Post: Post object (12)>]>"
      ]
     },
     "execution_count": 19,
     "metadata": {},
     "output_type": "execute_result"
    }
   ],
   "source": [
    "# 전체 조회\n",
    "qs = Post.objects.all()\n",
    "print(qs.query)\n",
    "qs"
   ]
  },
  {
   "cell_type": "code",
   "execution_count": 21,
   "id": "2d580d7c",
   "metadata": {},
   "outputs": [
    {
     "name": "stdout",
     "output_type": "stream",
     "text": [
      "SELECT \"instagram_post\".\"id\", \"instagram_post\".\"message\", \"instagram_post\".\"photo\", \"instagram_post\".\"created_at\", \"instagram_post\".\"updated_at\", \"instagram_post\".\"is_public\" FROM \"instagram_post\" ORDER BY \"instagram_post\".\"id\" DESC\n"
     ]
    },
    {
     "data": {
      "text/plain": [
       "<QuerySet [<Post: Post object (12)>, <Post: Post object (11)>, <Post: Post object (10)>, <Post: Post object (9)>, <Post: Post object (8)>, <Post: Post object (7)>, <Post: Post object (6)>, <Post: Post object (5)>, <Post: Post object (4)>, <Post: Post object (3)>, <Post: Post object (2)>, <Post: Post object (1)>]>"
      ]
     },
     "execution_count": 21,
     "metadata": {},
     "output_type": "execute_result"
    }
   ],
   "source": [
    "# order by: 정렬\n",
    "qs = Post.objects.all().order_by('-id')\n",
    "print(qs.query)\n",
    "qs"
   ]
  },
  {
   "cell_type": "code",
   "execution_count": 24,
   "id": "32b42712",
   "metadata": {},
   "outputs": [
    {
     "name": "stdout",
     "output_type": "stream",
     "text": [
      "SELECT \"instagram_post\".\"id\", \"instagram_post\".\"message\", \"instagram_post\".\"photo\", \"instagram_post\".\"created_at\", \"instagram_post\".\"updated_at\", \"instagram_post\".\"is_public\" FROM \"instagram_post\" ORDER BY \"instagram_post\".\"id\" DESC LIMIT 2\n"
     ]
    },
    {
     "data": {
      "text/plain": [
       "<QuerySet [<Post: Post object (12)>, <Post: Post object (11)>]>"
      ]
     },
     "execution_count": 24,
     "metadata": {},
     "output_type": "execute_result"
    }
   ],
   "source": [
    "# 범위지정\n",
    "qs = Post.objects.all().order_by('-id')[:2]\n",
    "print(qs.query)\n",
    "qs"
   ]
  },
  {
   "cell_type": "code",
   "execution_count": 26,
   "id": "b4c32d70",
   "metadata": {},
   "outputs": [
    {
     "name": "stdout",
     "output_type": "stream",
     "text": [
      "테스트중입니다\n",
      "{'_state': <django.db.models.base.ModelState object at 0x0000023D47C23350>, 'id': 12, 'message': '테스트중입니다', 'photo': 'instagram/post/2023/04/28/23/239d0393a0234adcaa7c96d20f33b683.png', 'created_at': datetime.datetime(2023, 4, 28, 7, 25, 17, 223739, tzinfo=datetime.timezone.utc), 'updated_at': datetime.date(2023, 4, 28), 'is_public': False}\n",
      "정보화시대\n",
      "{'_state': <django.db.models.base.ModelState object at 0x0000023D47C21ED0>, 'id': 11, 'message': '정보화시대', 'photo': 'instagram/post/2023/04/28/3월출석.png', 'created_at': datetime.datetime(2023, 4, 28, 5, 57, 22, 587259, tzinfo=datetime.timezone.utc), 'updated_at': datetime.date(2023, 4, 28), 'is_public': False}\n"
     ]
    }
   ],
   "source": [
    "for post in qs:\n",
    "    print(post.message)\n",
    "    print(post.__dict__)"
   ]
  },
  {
   "cell_type": "code",
   "execution_count": 28,
   "id": "b043fb5e",
   "metadata": {},
   "outputs": [
    {
     "name": "stdout",
     "output_type": "stream",
     "text": [
      "id: 12, message: 테스트중입니다 (작성일자: 2023-04-28 07:25:17.223739+00:00)\n",
      "id: 11, message: 정보화시대 (작성일자: 2023-04-28 05:57:22.587259+00:00)\n"
     ]
    }
   ],
   "source": [
    "for post in qs:\n",
    "    print (\"id: {id}, message: {message} (작성일자: {created_at})\".format(**post.__dict__))"
   ]
  },
  {
   "cell_type": "code",
   "execution_count": 34,
   "id": "e4e5de5e",
   "metadata": {},
   "outputs": [
    {
     "name": "stdout",
     "output_type": "stream",
     "text": [
      "테스트중입니다\n",
      "{'_state': <django.db.models.base.ModelState object at 0x0000023D496DF3D0>, 'id': 12, 'message': '테스트중입니다', 'photo': 'instagram/post/2023/04/28/23/239d0393a0234adcaa7c96d20f33b683.png', 'created_at': datetime.datetime(2023, 4, 28, 7, 25, 17, 223739, tzinfo=datetime.timezone.utc), 'updated_at': datetime.date(2023, 4, 28), 'is_public': False}\n",
      "마지막테스트\n",
      "{'_state': <django.db.models.base.ModelState object at 0x0000023D496DED50>, 'id': 10, 'message': '마지막테스트', 'photo': 'instagram/post/3월출석_hJm67V3.png', 'created_at': datetime.datetime(2023, 4, 28, 5, 49, 10, 187835, tzinfo=datetime.timezone.utc), 'updated_at': datetime.date(2023, 4, 28), 'is_public': False}\n",
      "테스트중\n",
      "{'_state': <django.db.models.base.ModelState object at 0x0000023D496DF310>, 'id': 5, 'message': '테스트중', 'photo': 'instagram/post/3월출석.png', 'created_at': datetime.datetime(2023, 4, 28, 5, 40, 11, 466989, tzinfo=datetime.timezone.utc), 'updated_at': datetime.date(2023, 4, 28), 'is_public': False}\n",
      "사진 업로드 테스트\n",
      "{'_state': <django.db.models.base.ModelState object at 0x0000023D496DC3D0>, 'id': 3, 'message': '사진 업로드 테스트', 'photo': '3월출석.png', 'created_at': datetime.datetime(2023, 4, 28, 4, 32, 42, 176182, tzinfo=datetime.timezone.utc), 'updated_at': datetime.date(2023, 4, 28), 'is_public': True}\n"
     ]
    }
   ],
   "source": [
    "# 다음과 같이 조건문을 줄 수 있다.\n",
    "# filter안에 들어가는 다양한 오퍼레이터를 알아두는 것이 좋다\n",
    "qs = Post.objects.filter(message__icontains = '테스트').order_by('-id')\n",
    "\n",
    "for post in qs:\n",
    "    print(post.message)\n",
    "    print(post.__dict__)"
   ]
  },
  {
   "cell_type": "code",
   "execution_count": 36,
   "id": "b789147d",
   "metadata": {},
   "outputs": [
    {
     "ename": "MultipleObjectsReturned",
     "evalue": "get() returned more than one Post -- it returned 2!",
     "output_type": "error",
     "traceback": [
      "\u001b[1;31m---------------------------------------------------------------------------\u001b[0m",
      "\u001b[1;31mMultipleObjectsReturned\u001b[0m                   Traceback (most recent call last)",
      "Cell \u001b[1;32mIn[36], line 9\u001b[0m\n\u001b[0;32m      1\u001b[0m \u001b[38;5;66;03m# 쿼리셋의 기본 구조:\u001b[39;00m\n\u001b[0;32m      2\u001b[0m \u001b[38;5;66;03m# post.filter ...\u001b[39;00m\n\u001b[0;32m      3\u001b[0m \u001b[38;5;66;03m# post.exclude...\u001b[39;00m\n\u001b[0;32m      4\u001b[0m \u001b[38;5;66;03m#  post.get ... : 값이 없을 경우 예외 반환 (값이 없다면DoesNotExist / 두 개 이상의 값이 나오면 MultipleObjectsReturned 반환)\u001b[39;00m\n\u001b[0;32m      5\u001b[0m \u001b[38;5;66;03m#  post.fitst  : 모델객체 없으면 None\u001b[39;00m\n\u001b[0;32m      6\u001b[0m \u001b[38;5;66;03m#  post.last  : 모델객체 없으면 None\u001b[39;00m\n\u001b[0;32m      8\u001b[0m qs \u001b[38;5;241m=\u001b[39m Post\u001b[38;5;241m.\u001b[39mobjects\u001b[38;5;241m.\u001b[39mall()\n\u001b[1;32m----> 9\u001b[0m \u001b[43mqs\u001b[49m\u001b[38;5;241;43m.\u001b[39;49m\u001b[43mget\u001b[49m\u001b[43m(\u001b[49m\u001b[43mid__lte\u001b[49m\u001b[38;5;241;43m=\u001b[39;49m\u001b[38;5;241;43m2\u001b[39;49m\u001b[43m)\u001b[49m \u001b[38;5;66;03m# 2이하인 것\u001b[39;00m\n\u001b[0;32m     10\u001b[0m \u001b[38;5;66;03m# MultipleObjectsReturned 값이 하나가 아니기 때문에 MultipleObjectsReturned 반환\u001b[39;00m\n",
      "File \u001b[1;32m~\\anaconda3\\envs\\djangoproject\\Lib\\site-packages\\django\\db\\models\\query.py:653\u001b[0m, in \u001b[0;36mQuerySet.get\u001b[1;34m(self, *args, **kwargs)\u001b[0m\n\u001b[0;32m    649\u001b[0m \u001b[38;5;28;01mif\u001b[39;00m \u001b[38;5;129;01mnot\u001b[39;00m num:\n\u001b[0;32m    650\u001b[0m     \u001b[38;5;28;01mraise\u001b[39;00m \u001b[38;5;28mself\u001b[39m\u001b[38;5;241m.\u001b[39mmodel\u001b[38;5;241m.\u001b[39mDoesNotExist(\n\u001b[0;32m    651\u001b[0m         \u001b[38;5;124m\"\u001b[39m\u001b[38;5;132;01m%s\u001b[39;00m\u001b[38;5;124m matching query does not exist.\u001b[39m\u001b[38;5;124m\"\u001b[39m \u001b[38;5;241m%\u001b[39m \u001b[38;5;28mself\u001b[39m\u001b[38;5;241m.\u001b[39mmodel\u001b[38;5;241m.\u001b[39m_meta\u001b[38;5;241m.\u001b[39mobject_name\n\u001b[0;32m    652\u001b[0m     )\n\u001b[1;32m--> 653\u001b[0m \u001b[38;5;28;01mraise\u001b[39;00m \u001b[38;5;28mself\u001b[39m\u001b[38;5;241m.\u001b[39mmodel\u001b[38;5;241m.\u001b[39mMultipleObjectsReturned(\n\u001b[0;32m    654\u001b[0m     \u001b[38;5;124m\"\u001b[39m\u001b[38;5;124mget() returned more than one \u001b[39m\u001b[38;5;132;01m%s\u001b[39;00m\u001b[38;5;124m -- it returned \u001b[39m\u001b[38;5;132;01m%s\u001b[39;00m\u001b[38;5;124m!\u001b[39m\u001b[38;5;124m\"\u001b[39m\n\u001b[0;32m    655\u001b[0m     \u001b[38;5;241m%\u001b[39m (\n\u001b[0;32m    656\u001b[0m         \u001b[38;5;28mself\u001b[39m\u001b[38;5;241m.\u001b[39mmodel\u001b[38;5;241m.\u001b[39m_meta\u001b[38;5;241m.\u001b[39mobject_name,\n\u001b[0;32m    657\u001b[0m         num \u001b[38;5;28;01mif\u001b[39;00m \u001b[38;5;129;01mnot\u001b[39;00m limit \u001b[38;5;129;01mor\u001b[39;00m num \u001b[38;5;241m<\u001b[39m limit \u001b[38;5;28;01melse\u001b[39;00m \u001b[38;5;124m\"\u001b[39m\u001b[38;5;124mmore than \u001b[39m\u001b[38;5;132;01m%s\u001b[39;00m\u001b[38;5;124m\"\u001b[39m \u001b[38;5;241m%\u001b[39m (limit \u001b[38;5;241m-\u001b[39m \u001b[38;5;241m1\u001b[39m),\n\u001b[0;32m    658\u001b[0m     )\n\u001b[0;32m    659\u001b[0m )\n",
      "\u001b[1;31mMultipleObjectsReturned\u001b[0m: get() returned more than one Post -- it returned 2!"
     ]
    }
   ],
   "source": [
    "# 쿼리셋의 기본 구조:\n",
    "# post.filter ...\n",
    "# post.exclude...\n",
    "#  post.get ... : 값이 없을 경우 예외 반환 (값이 없다면DoesNotExist / 두 개 이상의 값이 나오면 MultipleObjectsReturned 반환)\n",
    "#  post.fitst  : 모델객체 없으면 None\n",
    "#  post.last  : 모델객체 없으면 None\n",
    "\n",
    "qs = Post.objects.all()\n",
    "qs.get(id__lte=2) # 2이하인 것\n",
    "# MultipleObjectsReturned 값이 하나가 아니기 때문에 MultipleObjectsReturned 반환"
   ]
  },
  {
   "cell_type": "code",
   "execution_count": null,
   "id": "837a6c53",
   "metadata": {},
   "outputs": [],
   "source": [
    "# filter & select : 인자로 필드명=조건값 지정\n",
    "# 이때 조건이 2개 이상이면 무조건 and 조건으로 묶임\n",
    "# or 조건으로 묶고 싶다면 q객체 활용\n",
    "# qs = Post.objects.filter()"
   ]
  },
  {
   "cell_type": "code",
   "execution_count": 45,
   "id": "59dbf27b",
   "metadata": {},
   "outputs": [
    {
     "name": "stdout",
     "output_type": "stream",
     "text": [
      "SELECT \"instagram_post\".\"id\", \"instagram_post\".\"message\", \"instagram_post\".\"photo\", \"instagram_post\".\"created_at\", \"instagram_post\".\"updated_at\", \"instagram_post\".\"is_public\" FROM \"instagram_post\" WHERE (\"instagram_post\".\"id\" >= 2 AND \"instagram_post\".\"message\" LIKE %테스트% ESCAPE '\\')\n",
      "{'_state': <django.db.models.base.ModelState object at 0x0000023D4B31FD90>, 'id': 3, 'message': '사진 업로드 테스트', 'photo': '3월출석.png', 'created_at': datetime.datetime(2023, 4, 28, 4, 32, 42, 176182, tzinfo=datetime.timezone.utc), 'updated_at': datetime.date(2023, 4, 28), 'is_public': True}\n",
      "{'_state': <django.db.models.base.ModelState object at 0x0000023D4B31EBD0>, 'id': 5, 'message': '테스트중', 'photo': 'instagram/post/3월출석.png', 'created_at': datetime.datetime(2023, 4, 28, 5, 40, 11, 466989, tzinfo=datetime.timezone.utc), 'updated_at': datetime.date(2023, 4, 28), 'is_public': False}\n",
      "{'_state': <django.db.models.base.ModelState object at 0x0000023D4B31DE10>, 'id': 10, 'message': '마지막테스트', 'photo': 'instagram/post/3월출석_hJm67V3.png', 'created_at': datetime.datetime(2023, 4, 28, 5, 49, 10, 187835, tzinfo=datetime.timezone.utc), 'updated_at': datetime.date(2023, 4, 28), 'is_public': False}\n",
      "{'_state': <django.db.models.base.ModelState object at 0x0000023D4B31C090>, 'id': 12, 'message': '테스트중입니다', 'photo': 'instagram/post/2023/04/28/23/239d0393a0234adcaa7c96d20f33b683.png', 'created_at': datetime.datetime(2023, 4, 28, 7, 25, 17, 223739, tzinfo=datetime.timezone.utc), 'updated_at': datetime.date(2023, 4, 28), 'is_public': False}\n"
     ]
    }
   ],
   "source": [
    "from django.db.models import Q\n",
    "\n",
    "# 조건\n",
    "cond = Q(id__gte=2)&Q(message__icontains=\"테스트\")\n",
    "\n",
    "# 쿼리문 (OR 조건)\n",
    "# qs = Post.objects.filter(Q(id__gte=2)|Q(message__icontains=\"테스트\"))\n",
    "\n",
    "# AND 조건\n",
    "qs = Post.objects.filter(cond)\n",
    "print(qs.query)\n",
    "\n",
    "# 결과\n",
    "for post in qs:\n",
    "    print(post.__dict__)\n"
   ]
  },
  {
   "cell_type": "code",
   "execution_count": null,
   "id": "8a774c1b",
   "metadata": {},
   "outputs": [],
   "source": [
    "필드명__lt : 필드명 < 조건\n",
    "필드명__lte: 필드명 <= 조건\n",
    "필드명__gt: 필드명>조건\n",
    "필드명__gte: 필드명>=조건\n",
    "\n",
    "\n",
    "필드명__startswith : 필드명 like \"조건값%\"\n",
    "필드명__istartswith : 필드명 like \"조건값%\" (대소문자 구별 x)\n",
    "기타 endwith, contains..."
   ]
  },
  {
   "cell_type": "code",
   "execution_count": null,
   "id": "ba05e875",
   "metadata": {},
   "outputs": [],
   "source": []
  },
  {
   "cell_type": "code",
   "execution_count": null,
   "id": "bfb36496",
   "metadata": {},
   "outputs": [],
   "source": []
  },
  {
   "cell_type": "code",
   "execution_count": null,
   "id": "cf8413f0",
   "metadata": {},
   "outputs": [],
   "source": []
  }
 ],
 "metadata": {
  "kernelspec": {
   "display_name": "Python 3 (ipykernel)",
   "language": "python",
   "name": "python3"
  },
  "language_info": {
   "codemirror_mode": {
    "name": "ipython",
    "version": 3
   },
   "file_extension": ".py",
   "mimetype": "text/x-python",
   "name": "python",
   "nbconvert_exporter": "python",
   "pygments_lexer": "ipython3",
   "version": "3.11.3"
  }
 },
 "nbformat": 4,
 "nbformat_minor": 5
}
